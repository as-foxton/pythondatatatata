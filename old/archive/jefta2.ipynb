{
 "cells": [
  {
   "cell_type": "code",
   "execution_count": 26,
   "metadata": {},
   "outputs": [],
   "source": [
    "import pandas as pd\n",
    "from json import loads, dumps\n"
   ]
  },
  {
   "cell_type": "code",
   "execution_count": 27,
   "metadata": {},
   "outputs": [
    {
     "data": {
      "text/html": [
       "<div>\n",
       "<style scoped>\n",
       "    .dataframe tbody tr th:only-of-type {\n",
       "        vertical-align: middle;\n",
       "    }\n",
       "\n",
       "    .dataframe tbody tr th {\n",
       "        vertical-align: top;\n",
       "    }\n",
       "\n",
       "    .dataframe thead th {\n",
       "        text-align: right;\n",
       "    }\n",
       "</style>\n",
       "<table border=\"1\" class=\"dataframe\">\n",
       "  <thead>\n",
       "    <tr style=\"text-align: right;\">\n",
       "      <th></th>\n",
       "      <th>age</th>\n",
       "      <th>unit</th>\n",
       "      <th>sex</th>\n",
       "      <th>indic_em</th>\n",
       "      <th>geo</th>\n",
       "      <th>year</th>\n",
       "      <th>employment</th>\n",
       "    </tr>\n",
       "  </thead>\n",
       "  <tbody>\n",
       "    <tr>\n",
       "      <th>0</th>\n",
       "      <td>Y15-24</td>\n",
       "      <td>PC_POP</td>\n",
       "      <td>F</td>\n",
       "      <td>ACT</td>\n",
       "      <td>AT</td>\n",
       "      <td>2020</td>\n",
       "      <td>52.8</td>\n",
       "    </tr>\n",
       "    <tr>\n",
       "      <th>1</th>\n",
       "      <td>Y15-24</td>\n",
       "      <td>PC_POP</td>\n",
       "      <td>F</td>\n",
       "      <td>ACT</td>\n",
       "      <td>BE</td>\n",
       "      <td>2020</td>\n",
       "      <td>26.5</td>\n",
       "    </tr>\n",
       "    <tr>\n",
       "      <th>2</th>\n",
       "      <td>Y15-24</td>\n",
       "      <td>PC_POP</td>\n",
       "      <td>F</td>\n",
       "      <td>ACT</td>\n",
       "      <td>BG</td>\n",
       "      <td>2020</td>\n",
       "      <td>18.2</td>\n",
       "    </tr>\n",
       "    <tr>\n",
       "      <th>3</th>\n",
       "      <td>Y15-24</td>\n",
       "      <td>PC_POP</td>\n",
       "      <td>F</td>\n",
       "      <td>ACT</td>\n",
       "      <td>CH</td>\n",
       "      <td>2020</td>\n",
       "      <td>64.6</td>\n",
       "    </tr>\n",
       "    <tr>\n",
       "      <th>4</th>\n",
       "      <td>Y15-24</td>\n",
       "      <td>PC_POP</td>\n",
       "      <td>F</td>\n",
       "      <td>ACT</td>\n",
       "      <td>CY</td>\n",
       "      <td>2020</td>\n",
       "      <td>36.6</td>\n",
       "    </tr>\n",
       "    <tr>\n",
       "      <th>...</th>\n",
       "      <td>...</td>\n",
       "      <td>...</td>\n",
       "      <td>...</td>\n",
       "      <td>...</td>\n",
       "      <td>...</td>\n",
       "      <td>...</td>\n",
       "      <td>...</td>\n",
       "    </tr>\n",
       "    <tr>\n",
       "      <th>69943</th>\n",
       "      <td>Y55-64</td>\n",
       "      <td>THS_PER</td>\n",
       "      <td>T</td>\n",
       "      <td>EMP_LFS</td>\n",
       "      <td>SE</td>\n",
       "      <td>1992</td>\n",
       "      <td>:</td>\n",
       "    </tr>\n",
       "    <tr>\n",
       "      <th>69944</th>\n",
       "      <td>Y55-64</td>\n",
       "      <td>THS_PER</td>\n",
       "      <td>T</td>\n",
       "      <td>EMP_LFS</td>\n",
       "      <td>SI</td>\n",
       "      <td>1992</td>\n",
       "      <td>:</td>\n",
       "    </tr>\n",
       "    <tr>\n",
       "      <th>69945</th>\n",
       "      <td>Y55-64</td>\n",
       "      <td>THS_PER</td>\n",
       "      <td>T</td>\n",
       "      <td>EMP_LFS</td>\n",
       "      <td>SK</td>\n",
       "      <td>1992</td>\n",
       "      <td>:</td>\n",
       "    </tr>\n",
       "    <tr>\n",
       "      <th>69946</th>\n",
       "      <td>Y55-64</td>\n",
       "      <td>THS_PER</td>\n",
       "      <td>T</td>\n",
       "      <td>EMP_LFS</td>\n",
       "      <td>TR</td>\n",
       "      <td>1992</td>\n",
       "      <td>:</td>\n",
       "    </tr>\n",
       "    <tr>\n",
       "      <th>69947</th>\n",
       "      <td>Y55-64</td>\n",
       "      <td>THS_PER</td>\n",
       "      <td>T</td>\n",
       "      <td>EMP_LFS</td>\n",
       "      <td>UK</td>\n",
       "      <td>1992</td>\n",
       "      <td>:</td>\n",
       "    </tr>\n",
       "  </tbody>\n",
       "</table>\n",
       "<p>69948 rows × 7 columns</p>\n",
       "</div>"
      ],
      "text/plain": [
       "          age     unit sex indic_em geo  year employment\n",
       "0      Y15-24   PC_POP   F      ACT  AT  2020      52.8 \n",
       "1      Y15-24   PC_POP   F      ACT  BE  2020      26.5 \n",
       "2      Y15-24   PC_POP   F      ACT  BG  2020      18.2 \n",
       "3      Y15-24   PC_POP   F      ACT  CH  2020      64.6 \n",
       "4      Y15-24   PC_POP   F      ACT  CY  2020      36.6 \n",
       "...       ...      ...  ..      ...  ..   ...        ...\n",
       "69943  Y55-64  THS_PER   T  EMP_LFS  SE  1992         : \n",
       "69944  Y55-64  THS_PER   T  EMP_LFS  SI  1992         : \n",
       "69945  Y55-64  THS_PER   T  EMP_LFS  SK  1992         : \n",
       "69946  Y55-64  THS_PER   T  EMP_LFS  TR  1992         : \n",
       "69947  Y55-64  THS_PER   T  EMP_LFS  UK  1992         : \n",
       "\n",
       "[69948 rows x 7 columns]"
      ]
     },
     "execution_count": 27,
     "metadata": {},
     "output_type": "execute_result"
    }
   ],
   "source": [
    "\n",
    "df= pd.read_csv(\"lfsi_emp_a_h.csv\")\n",
    "df"
   ]
  },
  {
   "cell_type": "code",
   "execution_count": 28,
   "metadata": {},
   "outputs": [
    {
     "name": "stdout",
     "output_type": "stream",
     "text": [
      "['52.8 ' '26.5 ' '18.2 ' ... '1052 e' '1855 e' '1730 e']\n"
     ]
    }
   ],
   "source": [
    "# To get the unique values in column 'A', you would do:\n",
    "unique_values_in_df = df['employment'].unique()\n",
    "print(unique_values_in_df)"
   ]
  },
  {
   "cell_type": "code",
   "execution_count": 29,
   "metadata": {},
   "outputs": [
    {
     "name": "stderr",
     "output_type": "stream",
     "text": [
      "C:\\Users\\Jefta\\AppData\\Local\\Temp\\ipykernel_11836\\2560549244.py:8: UserWarning: This pattern is interpreted as a regular expression, and has match groups. To actually get the groups, use str.extract.\n",
      "  mask = df['employment'].str.contains('^\\d+(\\.\\d+)?$', na=False)\n"
     ]
    }
   ],
   "source": [
    "# Create a mask where True indicates the string looks like a float\n",
    "df['employment'] = df['employment'].str.replace('b', '', regex=False)\n",
    "df['employment'] = df['employment'].str.replace('p', '', regex=False)\n",
    "df['employment'] = df['employment'].str.replace('e', '', regex=False)\n",
    "\n",
    "\n",
    "df['employment'] = df['employment'].str.strip()\n",
    "mask = df['employment'].str.contains('^\\d+(\\.\\d+)?$', na=False)\n",
    "\n",
    "# df_floats = df[mask]\n",
    "# df_floats\n",
    "# Extract the float-like part from the 'employment' column\n",
    "\n"
   ]
  },
  {
   "cell_type": "code",
   "execution_count": 30,
   "metadata": {},
   "outputs": [],
   "source": [
    "for i,row in df.iterrows():\n",
    "    if mask[i]:\n",
    "        pass\n",
    "    elif \":\" in row[\"employment\"]:\n",
    "        pass\n",
    "    else:\n",
    "        print (row[\"employment\"])"
   ]
  },
  {
   "cell_type": "code",
   "execution_count": 31,
   "metadata": {},
   "outputs": [],
   "source": [
    "import matplotlib.pyplot as plt"
   ]
  },
  {
   "cell_type": "code",
   "execution_count": 32,
   "metadata": {},
   "outputs": [],
   "source": [
    "df_filtered = df[\n",
    "    (df['age'] == 'Y15-24') &  # replace 'your_age_group' with the actual age group\n",
    "    (df['unit'] == 'PC_POP') &\n",
    "    (df['sex'] == 'F') &\n",
    "    (df['indic_em'] == 'ACT') &\n",
    "    (df['geo'] == 'DK') &\n",
    "    (df['employment'] != ':')\n",
    "]\n",
    "\n",
    "\n"
   ]
  },
  {
   "cell_type": "code",
   "execution_count": 33,
   "metadata": {},
   "outputs": [
    {
     "data": {
      "text/plain": [
       "numpy.int64"
      ]
     },
     "execution_count": 33,
     "metadata": {},
     "output_type": "execute_result"
    }
   ],
   "source": [
    "type(df_filtered[\"year\"].iloc[2])"
   ]
  },
  {
   "cell_type": "code",
   "execution_count": 34,
   "metadata": {},
   "outputs": [
    {
     "name": "stderr",
     "output_type": "stream",
     "text": [
      "C:\\Users\\Jefta\\AppData\\Local\\Temp\\ipykernel_11836\\4218598932.py:2: SettingWithCopyWarning: \n",
      "A value is trying to be set on a copy of a slice from a DataFrame.\n",
      "Try using .loc[row_indexer,col_indexer] = value instead\n",
      "\n",
      "See the caveats in the documentation: https://pandas.pydata.org/pandas-docs/stable/user_guide/indexing.html#returning-a-view-versus-a-copy\n",
      "  df_filtered['year'] = pd.to_datetime(df_filtered['year'], format='%Y')\n"
     ]
    }
   ],
   "source": [
    "\n",
    "# Convert 'year' column to datetime and 'employment' to numeric values if they are not already\n",
    "df_filtered['year'] = pd.to_datetime(df_filtered['year'], format='%Y')\n",
    "# df_filtered['employment'] = pd.to_numeric(df_filtered['employment'])\n",
    "\n",
    "# Sort by year\n",
    "\n",
    "\n",
    "\n"
   ]
  },
  {
   "cell_type": "code",
   "execution_count": 35,
   "metadata": {},
   "outputs": [
    {
     "name": "stdout",
     "output_type": "stream",
     "text": [
      "60.4\n",
      "61.8\n",
      "60.8\n",
      "61.2\n",
      "61.2\n",
      "58.9\n",
      "58.8\n",
      "59.0\n",
      "60.9\n",
      "63.3\n",
      "63.9\n",
      "67.2\n",
      "68.2\n",
      "69.1\n",
      "69.3\n",
      "66.2\n",
      "66.0\n",
      "63.5\n",
      "66.4\n",
      "65.8\n",
      "67.8\n",
      "69.7\n",
      "70.9\n",
      "70.5\n",
      "70.4\n",
      "69.4\n",
      "67.5\n",
      "69.4\n"
     ]
    }
   ],
   "source": [
    "# mask2 = df['employment'].str.contains('^\\d+(\\.\\d+)?$', na=False)\n",
    "\n",
    "for i,row in df_filtered.iterrows():\n",
    "    # if mask2[i]:\n",
    "        # pass\n",
    "    # elif \":\" in row[\"employment\"]:\n",
    "        # pass\n",
    "    # else:\n",
    "    print (row[\"employment\"])\n",
    "        "
   ]
  },
  {
   "cell_type": "code",
   "execution_count": 36,
   "metadata": {},
   "outputs": [
    {
     "name": "stderr",
     "output_type": "stream",
     "text": [
      "C:\\Users\\Jefta\\AppData\\Local\\Temp\\ipykernel_11836\\955129068.py:1: SettingWithCopyWarning: \n",
      "A value is trying to be set on a copy of a slice from a DataFrame.\n",
      "Try using .loc[row_indexer,col_indexer] = value instead\n",
      "\n",
      "See the caveats in the documentation: https://pandas.pydata.org/pandas-docs/stable/user_guide/indexing.html#returning-a-view-versus-a-copy\n",
      "  df_filtered['employment'] = pd.to_numeric(df_filtered['employment'], errors='coerce')\n"
     ]
    }
   ],
   "source": [
    "df_filtered['employment'] = pd.to_numeric(df_filtered['employment'], errors='coerce')\n"
   ]
  },
  {
   "cell_type": "code",
   "execution_count": null,
   "metadata": {},
   "outputs": [],
   "source": [
    "df_filtered.to_csv('df_filtered.csv', index=False)\n"
   ]
  },
  {
   "cell_type": "code",
   "execution_count": 38,
   "metadata": {},
   "outputs": [
    {
     "data": {
      "image/png": "[encoded data removed]",
      "text/plain": [
       "<Figure size 1000x600 with 1 Axes>"
      ]
     },
     "metadata": {},
     "output_type": "display_data"
    }
   ],
   "source": [
    "df_filtered = df_filtered.sort_values('year')\n",
    "\n",
    "\n",
    "# Calculate the minimum and maximum employment values\n",
    "min_value = df_filtered['employment'].min()\n",
    "max_value = df_filtered['employment'].max()\n",
    "\n",
    "# Create the plot\n",
    "plt.figure(figsize=(10, 6))\n",
    "plt.plot(df_filtered['year'], df_filtered['employment'])\n",
    "\n",
    "# Set the y-axis limits\n",
    "plt.ylim([min_value, max_value])\n",
    "\n",
    "# Set the title and labels\n",
    "plt.title('Employment over time for selected group')\n",
    "plt.xlabel('Year')\n",
    "plt.ylabel('Employment')\n",
    "\n",
    "# Show the plot\n",
    "plt.show()\n"
   ]
  },
  {
   "cell_type": "code",
   "execution_count": null,
   "metadata": {},
   "outputs": [],
   "source": []
  },
  {
   "cell_type": "code",
   "execution_count": null,
   "metadata": {},
   "outputs": [],
   "source": []
  }
 ],
 "metadata": {
  "kernelspec": {
   "display_name": "Python 3",
   "language": "python",
   "name": "python3"
  },
  "language_info": {
   "codemirror_mode": {
    "name": "ipython",
    "version": 3
   },
   "file_extension": ".py",
   "mimetype": "text/x-python",
   "name": "python",
   "nbconvert_exporter": "python",
   "pygments_lexer": "ipython3",
   "version": "3.11.4"
  },
  "orig_nbformat": 4
 },
 "nbformat": 4,
 "nbformat_minor": 2
}
